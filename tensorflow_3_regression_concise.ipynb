{
 "cells": [
  {
   "cell_type": "code",
   "execution_count": 51,
   "outputs": [],
   "source": [
    "import tensorflow as tf\n",
    "from tensorflow.keras.models import Model"
   ],
   "metadata": {
    "collapsed": false,
    "pycharm": {
     "name": "#%%\n"
    }
   }
  },
  {
   "cell_type": "code",
   "execution_count": 52,
   "outputs": [],
   "source": [
    "class SyntheticData:\n",
    "    def __init__(self, w, b, num_train, num_val, noise=0.3):\n",
    "        num = num_train + num_val\n",
    "        self.X = tf.random.normal((num, len(w)))\n",
    "        self.y = self.X @ tf.reshape(w, [len(w), 1]) + tf.random.normal((num, 1)) * noise + b\n",
    "        self.X_train, self.X_val = self.X[:num_train], self.X[num_train:]\n",
    "        self.y_train, self.y_val = self.y[:num_train], self.y[num_train:]\n",
    "\n",
    "    def train_dataloader(self, batch_size):\n",
    "        return tf.data.Dataset.from_tensor_slices((self.X_train, self.y_train)).batch(batch_size=batch_size)\n",
    "\n",
    "    def val_dataloader(self, batch_size):\n",
    "        return tf.data.Dataset.from_tensor_slices((self.X_val, self.y_val)).batch(batch_size=batch_size)"
   ],
   "metadata": {
    "collapsed": false,
    "pycharm": {
     "name": "#%%\n"
    }
   }
  },
  {
   "cell_type": "code",
   "execution_count": 53,
   "outputs": [],
   "source": [
    "class MyModel(tf.keras.Model):\n",
    "    def __init__(self, lr, decay):\n",
    "        super().__init__()\n",
    "        self.decay = decay\n",
    "        self.net = tf.keras.layers.Dense(1, kernel_initializer=tf.initializers.RandomNormal(),\n",
    "                                         kernel_regularizer=tf.keras.regularizers.L2(1.0))\n",
    "        self.loss = tf.keras.losses.MeanSquaredError()\n",
    "        self.optimizer = tf.optimizers.SGD(learning_rate=lr)\n",
    "\n",
    "    def my_loss(self, y, y_hat):\n",
    "        return tf.keras.losses.MeanSquaredError()(y, y_hat) + self.net.losses\n",
    "\n",
    "    def forward(self, X):\n",
    "        return self.net(X)\n"
   ],
   "metadata": {
    "collapsed": false,
    "pycharm": {
     "name": "#%%\n"
    }
   }
  },
  {
   "cell_type": "code",
   "execution_count": 54,
   "outputs": [],
   "source": [
    "class Trainer:\n",
    "    def __init__(self):\n",
    "        self.train_errors = []\n",
    "        self.val_errors = []\n",
    "\n",
    "    def my_fit(self, data: SyntheticData, model: MyModel, epochs, batch_size):\n",
    "        for epoch in range(epochs):\n",
    "            self.train_errors.append(tf.constant(0.0))\n",
    "            self.val_errors.append(tf.constant(0.0))\n",
    "            for batch_X, batch_y in data.train_dataloader(batch_size):\n",
    "                with tf.GradientTape() as g:\n",
    "                    loss = model.my_loss(batch_y, model.forward(batch_X))\n",
    "                    self.train_errors[-1] += loss\n",
    "                grad = g.gradient(loss, model.trainable_variables)\n",
    "                model.optimizer.apply_gradients(zip(grad, model.trainable_variables))\n",
    "            for batch_X, batch_y in data.val_dataloader(batch_size):\n",
    "                loss = model.my_loss(batch_y, model.forward(batch_X))\n",
    "                self.val_errors[-1] += loss\n"
   ],
   "metadata": {
    "collapsed": false,
    "pycharm": {
     "name": "#%%\n"
    }
   }
  },
  {
   "cell_type": "code",
   "execution_count": 55,
   "outputs": [],
   "source": [
    "w = tf.constant([0.0, 1.0, 1.0, 1.0])\n",
    "b = tf.constant(3.0)\n",
    "sdata = SyntheticData(w, b, 50, 50)"
   ],
   "metadata": {
    "collapsed": false,
    "pycharm": {
     "name": "#%%\n"
    }
   }
  },
  {
   "cell_type": "code",
   "execution_count": 56,
   "outputs": [],
   "source": [
    "model = MyModel(0.05, 2.0)\n",
    "trainer = Trainer()\n",
    "trainer.my_fit(sdata, model, 7, 20)"
   ],
   "metadata": {
    "collapsed": false,
    "pycharm": {
     "name": "#%%\n"
    }
   }
  },
  {
   "cell_type": "code",
   "execution_count": 57,
   "outputs": [
    {
     "data": {
      "text/plain": "([<tf.Tensor: shape=(1,), dtype=float32, numpy=array([19.888708], dtype=float32)>,\n  <tf.Tensor: shape=(1,), dtype=float32, numpy=array([12.894963], dtype=float32)>,\n  <tf.Tensor: shape=(1,), dtype=float32, numpy=array([9.019101], dtype=float32)>,\n  <tf.Tensor: shape=(1,), dtype=float32, numpy=array([6.779762], dtype=float32)>,\n  <tf.Tensor: shape=(1,), dtype=float32, numpy=array([5.4633875], dtype=float32)>,\n  <tf.Tensor: shape=(1,), dtype=float32, numpy=array([4.683413], dtype=float32)>,\n  <tf.Tensor: shape=(1,), dtype=float32, numpy=array([4.2190185], dtype=float32)>],\n [<tf.Tensor: shape=(1,), dtype=float32, numpy=array([30.917377], dtype=float32)>,\n  <tf.Tensor: shape=(1,), dtype=float32, numpy=array([23.254818], dtype=float32)>,\n  <tf.Tensor: shape=(1,), dtype=float32, numpy=array([18.258463], dtype=float32)>,\n  <tf.Tensor: shape=(1,), dtype=float32, numpy=array([14.961313], dtype=float32)>,\n  <tf.Tensor: shape=(1,), dtype=float32, numpy=array([12.76186], dtype=float32)>,\n  <tf.Tensor: shape=(1,), dtype=float32, numpy=array([11.276283], dtype=float32)>,\n  <tf.Tensor: shape=(1,), dtype=float32, numpy=array([10.258756], dtype=float32)>])"
     },
     "execution_count": 57,
     "metadata": {},
     "output_type": "execute_result"
    }
   ],
   "source": [
    "trainer.train_errors, trainer.val_errors"
   ],
   "metadata": {
    "collapsed": false,
    "pycharm": {
     "name": "#%%\n"
    }
   }
  }
 ],
 "metadata": {
  "kernelspec": {
   "display_name": "Python 3",
   "language": "python",
   "name": "python3"
  },
  "language_info": {
   "codemirror_mode": {
    "name": "ipython",
    "version": 2
   },
   "file_extension": ".py",
   "mimetype": "text/x-python",
   "name": "python",
   "nbconvert_exporter": "python",
   "pygments_lexer": "ipython2",
   "version": "2.7.6"
  }
 },
 "nbformat": 4,
 "nbformat_minor": 0
}