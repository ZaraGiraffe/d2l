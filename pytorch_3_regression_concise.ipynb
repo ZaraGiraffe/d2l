{
 "cells": [
  {
   "cell_type": "code",
   "execution_count": 1,
   "outputs": [],
   "source": [
    "import torch\n",
    "from plotly import graph_objects as go\n",
    "from torch.utils.data import TensorDataset, DataLoader"
   ],
   "metadata": {
    "collapsed": false,
    "pycharm": {
     "name": "#%%\n"
    }
   }
  },
  {
   "cell_type": "code",
   "execution_count": 2,
   "outputs": [],
   "source": [
    "class SyntheticData:\n",
    "    def __init__(self, w, b, variation, num_train, num_validation, batch_size):\n",
    "        self.batch_size = batch_size\n",
    "        self.num_train = num_train\n",
    "        self.num_validation = num_validation\n",
    "        self.num = num_train + num_validation\n",
    "        self.X = torch.randn(self.num, len(w))\n",
    "        self.y = (self.X @ w + b) + (torch.randn(self.num) * variation)"
   ],
   "metadata": {
    "collapsed": false,
    "pycharm": {
     "name": "#%%\n"
    }
   }
  },
  {
   "cell_type": "code",
   "execution_count": 3,
   "outputs": [],
   "source": [
    "class Model(torch.nn.Module):\n",
    "    def __init__(self, input_size, lr, decay):\n",
    "        super().__init__()\n",
    "        self.decay = torch.tensor(decay)\n",
    "        self.net = torch.nn.Linear(input_size, 1)\n",
    "        self.opt = torch.optim.SGD(self.parameters(), lr=lr)\n",
    "\n",
    "    def forward(self, X):\n",
    "        return self.net(X)\n",
    "\n",
    "    def loss(self, y, y_hat):\n",
    "        func = torch.nn.MSELoss()\n",
    "        dec = torch.tensor(0.0)\n",
    "        for param in self.parameters():\n",
    "            dec += torch.norm(param, 2)\n",
    "        return func(y, y_hat) + dec * self.decay"
   ],
   "metadata": {
    "collapsed": false,
    "pycharm": {
     "name": "#%%\n"
    }
   }
  },
  {
   "cell_type": "code",
   "execution_count": 11,
   "outputs": [],
   "source": [
    "class Trainer:\n",
    "    def __init__(self):\n",
    "        self.train_errors = []\n",
    "        self.val_errors = []\n",
    "\n",
    "    def fit(self, model: Model, data: SyntheticData, epochs):\n",
    "        for epoch in range(epochs):\n",
    "            self.train_errors.append(torch.tensor(0.0))\n",
    "            self.val_errors.append(torch.tensor(0.0))\n",
    "            for batch_X, batch_y in DataLoader(TensorDataset(data.X[:data.num_train], data.y[:data.num_train]), batch_size=data.batch_size):\n",
    "                model.opt.zero_grad()\n",
    "                loss = model.loss(batch_y, torch.reshape(model.forward(batch_X), batch_y.size()))\n",
    "                self.train_errors[-1] += loss\n",
    "                loss.backward()\n",
    "                model.opt.step()\n",
    "            with torch.no_grad():\n",
    "                for batch_X, batch_y in DataLoader(TensorDataset(data.X[data.num_train:data.num], data.y[data.num_train:data.num]), batch_size=data.batch_size):\n",
    "                    loss = model.loss(batch_y, torch.reshape(model.forward(batch_X), batch_y.size()))\n",
    "                    self.val_errors[-1] += loss"
   ],
   "metadata": {
    "collapsed": false,
    "pycharm": {
     "name": "#%%\n"
    }
   }
  },
  {
   "cell_type": "code",
   "execution_count": 12,
   "outputs": [],
   "source": [
    "sdata = SyntheticData(torch.tensor([0.1, 0.1]), torch.tensor(3.0), 0.5, 100, 100, 50)\n",
    "model = Model(2, 0.1, 1)\n",
    "trainer = Trainer()\n",
    "trainer.fit(model, sdata, 7)"
   ],
   "metadata": {
    "collapsed": false,
    "pycharm": {
     "name": "#%%\n"
    }
   }
  },
  {
   "cell_type": "code",
   "execution_count": 13,
   "outputs": [
    {
     "data": {
      "text/plain": "([tensor(14.0283, grad_fn=<AddBackward0>),\n  tensor(9.7578, grad_fn=<AddBackward0>),\n  tensor(7.7947, grad_fn=<AddBackward0>),\n  tensor(6.7975, grad_fn=<AddBackward0>),\n  tensor(6.3760, grad_fn=<AddBackward0>),\n  tensor(6.1956, grad_fn=<AddBackward0>),\n  tensor(6.1393, grad_fn=<AddBackward0>)],\n [tensor(11.8324),\n  tensor(8.8980),\n  tensor(7.3579),\n  tensor(6.5228),\n  tensor(6.3061),\n  tensor(6.1905),\n  tensor(6.1048)])"
     },
     "execution_count": 13,
     "metadata": {},
     "output_type": "execute_result"
    }
   ],
   "source": [
    "trainer.train_errors, trainer.val_errors"
   ],
   "metadata": {
    "collapsed": false,
    "pycharm": {
     "name": "#%%\n"
    }
   }
  },
  {
   "cell_type": "code",
   "execution_count": 7,
   "outputs": [
    {
     "data": {
      "text/plain": "tensor(2.)"
     },
     "execution_count": 7,
     "metadata": {},
     "output_type": "execute_result"
    }
   ],
   "source": [
    "torch.nn.MSELoss()(torch.tensor([1.0, 2.0]), torch.tensor([3.0, 2.0]))"
   ],
   "metadata": {
    "collapsed": false,
    "pycharm": {
     "name": "#%%\n"
    }
   }
  }
 ],
 "metadata": {
  "kernelspec": {
   "display_name": "Python 3",
   "language": "python",
   "name": "python3"
  },
  "language_info": {
   "codemirror_mode": {
    "name": "ipython",
    "version": 2
   },
   "file_extension": ".py",
   "mimetype": "text/x-python",
   "name": "python",
   "nbconvert_exporter": "python",
   "pygments_lexer": "ipython2",
   "version": "2.7.6"
  }
 },
 "nbformat": 4,
 "nbformat_minor": 0
}