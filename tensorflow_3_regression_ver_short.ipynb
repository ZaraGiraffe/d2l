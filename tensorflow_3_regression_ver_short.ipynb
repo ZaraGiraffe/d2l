{
 "cells": [
  {
   "cell_type": "code",
   "execution_count": 1,
   "outputs": [],
   "source": [
    "import tensorflow as tf"
   ],
   "metadata": {
    "collapsed": false,
    "pycharm": {
     "name": "#%%\n"
    }
   }
  },
  {
   "cell_type": "code",
   "execution_count": null,
   "outputs": [],
   "source": [
    "class SyntheticData:\n",
    "    def __init__(self, w, b, num_train, num_val, noise=0.3):\n",
    "        num = num_train + num_val\n",
    "        self.X = tf.random.normal((num, len(w)))\n",
    "        self.y = self.X @ tf.reshape(w, [len(w), 1]) + tf.random.normal((num, 1)) * noise + b\n",
    "        self.X_train, self.X_val = self.X[:num_train], self.X[num_train:]\n",
    "        self.y_train, self.y_val = self.y[:num_train], self.y[num_train:]"
   ],
   "metadata": {
    "collapsed": false,
    "pycharm": {
     "name": "#%%\n"
    }
   }
  },
  {
   "cell_type": "code",
   "execution_count": 37,
   "outputs": [],
   "source": [
    "sdata = SyntheticData(tf.constant([2.0, 4.0]), tf.constant(3.0), 100, 100)"
   ],
   "metadata": {
    "collapsed": false,
    "pycharm": {
     "name": "#%%\n"
    }
   }
  },
  {
   "cell_type": "code",
   "execution_count": 38,
   "outputs": [],
   "source": [
    "inputs = tf.keras.Input((2))\n",
    "output = tf.keras.layers.Dense(1)(inputs)\n",
    "model = tf.keras.Model(inputs=inputs, outputs=output)"
   ],
   "metadata": {
    "collapsed": false,
    "pycharm": {
     "name": "#%%\n"
    }
   }
  },
  {
   "cell_type": "code",
   "execution_count": 39,
   "outputs": [
    {
     "name": "stdout",
     "output_type": "stream",
     "text": [
      "Epoch 1/7\n",
      "100/100 [==============================] - 0s 384us/step - loss: 7.6157\n",
      "Epoch 2/7\n",
      "100/100 [==============================] - 0s 374us/step - loss: 0.1661\n",
      "Epoch 3/7\n",
      "100/100 [==============================] - 0s 354us/step - loss: 0.1041\n",
      "Epoch 4/7\n",
      "100/100 [==============================] - 0s 364us/step - loss: 0.1013\n",
      "Epoch 5/7\n",
      "100/100 [==============================] - 0s 374us/step - loss: 0.1019\n",
      "Epoch 6/7\n",
      "100/100 [==============================] - 0s 374us/step - loss: 0.1025\n",
      "Epoch 7/7\n",
      "100/100 [==============================] - 0s 364us/step - loss: 0.1003\n"
     ]
    },
    {
     "data": {
      "text/plain": "<keras.callbacks.History at 0x194cff54880>"
     },
     "execution_count": 39,
     "metadata": {},
     "output_type": "execute_result"
    }
   ],
   "source": [
    "model.compile(optimizer=tf.keras.optimizers.SGD(), loss=tf.keras.losses.MeanSquaredError())\n",
    "model.fit(sdata.X_train, sdata.y_train, epochs=7, batch_size=1)"
   ],
   "metadata": {
    "collapsed": false,
    "pycharm": {
     "name": "#%%\n"
    }
   }
  },
  {
   "cell_type": "code",
   "execution_count": 40,
   "outputs": [
    {
     "name": "stdout",
     "output_type": "stream",
     "text": [
      "4/4 [==============================] - 0s 1ms/step\n"
     ]
    },
    {
     "data": {
      "text/plain": "<tf.Tensor: shape=(), dtype=float32, numpy=0.078920186>"
     },
     "execution_count": 40,
     "metadata": {},
     "output_type": "execute_result"
    }
   ],
   "source": [
    "ys = model.predict(sdata.X_val)\n",
    "val_error = tf.keras.metrics.MeanSquaredError()(sdata.y_val, ys)\n",
    "val_error"
   ],
   "metadata": {
    "collapsed": false,
    "pycharm": {
     "name": "#%%\n"
    }
   }
  },
  {
   "cell_type": "code",
   "execution_count": null,
   "outputs": [],
   "source": [],
   "metadata": {
    "collapsed": false,
    "pycharm": {
     "name": "#%%\n"
    }
   }
  }
 ],
 "metadata": {
  "kernelspec": {
   "display_name": "Python 3",
   "language": "python",
   "name": "python3"
  },
  "language_info": {
   "codemirror_mode": {
    "name": "ipython",
    "version": 2
   },
   "file_extension": ".py",
   "mimetype": "text/x-python",
   "name": "python",
   "nbconvert_exporter": "python",
   "pygments_lexer": "ipython2",
   "version": "2.7.6"
  }
 },
 "nbformat": 4,
 "nbformat_minor": 0
}